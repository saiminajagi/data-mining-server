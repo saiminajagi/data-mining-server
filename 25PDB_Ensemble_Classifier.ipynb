{
 "cells": [
  {
   "cell_type": "code",
   "execution_count": 11,
   "metadata": {},
   "outputs": [
    {
     "name": "stderr",
     "output_type": "stream",
     "text": [
      "/usr/local/lib/python2.7/dist-packages/sklearn/preprocessing/label.py:151: DeprecationWarning: The truth value of an empty array is ambiguous. Returning False, but in future this will result in an error. Use `array.size > 0` to check that an array is not empty.\n",
      "  if diff:\n"
     ]
    },
    {
     "name": "stdout",
     "output_type": "stream",
     "text": [
      "[[32  4  3  9]\n",
      " [ 2 31  5 12]\n",
      " [ 5  4 19 11]\n",
      " [ 6  6  8 13]]\n",
      "             precision    recall  f1-score   support\n",
      "\n",
      "          0       0.71      0.67      0.69        48\n",
      "          1       0.69      0.62      0.65        50\n",
      "          2       0.54      0.49      0.51        39\n",
      "          3       0.29      0.39      0.33        33\n",
      "\n",
      "avg / total       0.58      0.56      0.57       170\n",
      "\n"
     ]
    },
    {
     "name": "stderr",
     "output_type": "stream",
     "text": [
      "/usr/local/lib/python2.7/dist-packages/sklearn/preprocessing/label.py:151: DeprecationWarning: The truth value of an empty array is ambiguous. Returning False, but in future this will result in an error. Use `array.size > 0` to check that an array is not empty.\n",
      "  if diff:\n"
     ]
    },
    {
     "name": "stdout",
     "output_type": "stream",
     "text": [
      "[[29  3  2 12]\n",
      " [ 6 24  7 11]\n",
      " [ 1  5 19  8]\n",
      " [ 9 13  7 13]]\n",
      "             precision    recall  f1-score   support\n",
      "\n",
      "          0       0.64      0.63      0.64        46\n",
      "          1       0.53      0.50      0.52        48\n",
      "          2       0.54      0.58      0.56        33\n",
      "          3       0.30      0.31      0.30        42\n",
      "\n",
      "avg / total       0.51      0.50      0.50       169\n",
      "\n"
     ]
    },
    {
     "name": "stderr",
     "output_type": "stream",
     "text": [
      "/usr/local/lib/python2.7/dist-packages/sklearn/preprocessing/label.py:151: DeprecationWarning: The truth value of an empty array is ambiguous. Returning False, but in future this will result in an error. Use `array.size > 0` to check that an array is not empty.\n",
      "  if diff:\n"
     ]
    },
    {
     "name": "stdout",
     "output_type": "stream",
     "text": [
      "[[31  3  4 12]\n",
      " [ 3 28  7 12]\n",
      " [ 3  8 17  7]\n",
      " [ 8  6  7 13]]\n",
      "             precision    recall  f1-score   support\n",
      "\n",
      "          0       0.69      0.62      0.65        50\n",
      "          1       0.62      0.56      0.59        50\n",
      "          2       0.49      0.49      0.49        35\n",
      "          3       0.30      0.38      0.33        34\n",
      "\n",
      "avg / total       0.55      0.53      0.54       169\n",
      "\n"
     ]
    },
    {
     "name": "stderr",
     "output_type": "stream",
     "text": [
      "/usr/local/lib/python2.7/dist-packages/sklearn/preprocessing/label.py:151: DeprecationWarning: The truth value of an empty array is ambiguous. Returning False, but in future this will result in an error. Use `array.size > 0` to check that an array is not empty.\n",
      "  if diff:\n"
     ]
    },
    {
     "name": "stdout",
     "output_type": "stream",
     "text": [
      "[[30  4  2  9]\n",
      " [ 2 26 10 13]\n",
      " [ 6  6 17  9]\n",
      " [ 6  8  6 13]]\n",
      "             precision    recall  f1-score   support\n",
      "\n",
      "          0       0.68      0.67      0.67        45\n",
      "          1       0.59      0.51      0.55        51\n",
      "          2       0.49      0.45      0.47        38\n",
      "          3       0.30      0.39      0.34        33\n",
      "\n",
      "avg / total       0.53      0.51      0.52       167\n",
      "\n"
     ]
    },
    {
     "name": "stderr",
     "output_type": "stream",
     "text": [
      "/usr/local/lib/python2.7/dist-packages/sklearn/preprocessing/label.py:151: DeprecationWarning: The truth value of an empty array is ambiguous. Returning False, but in future this will result in an error. Use `array.size > 0` to check that an array is not empty.\n",
      "  if diff:\n"
     ]
    },
    {
     "name": "stdout",
     "output_type": "stream",
     "text": [
      "[[31  3 11 12]\n",
      " [ 2 26  5 12]\n",
      " [ 0  4 14  6]\n",
      " [11 11  5 14]]\n",
      "             precision    recall  f1-score   support\n",
      "\n",
      "          0       0.70      0.54      0.61        57\n",
      "          1       0.59      0.58      0.58        45\n",
      "          2       0.40      0.58      0.47        24\n",
      "          3       0.32      0.34      0.33        41\n",
      "\n",
      "avg / total       0.54      0.51      0.52       167\n",
      "\n"
     ]
    },
    {
     "name": "stderr",
     "output_type": "stream",
     "text": [
      "/usr/local/lib/python2.7/dist-packages/sklearn/preprocessing/label.py:151: DeprecationWarning: The truth value of an empty array is ambiguous. Returning False, but in future this will result in an error. Use `array.size > 0` to check that an array is not empty.\n",
      "  if diff:\n"
     ]
    },
    {
     "name": "stdout",
     "output_type": "stream",
     "text": [
      "[[19  5  2  6]\n",
      " [ 7 24  5 15]\n",
      " [ 4  6 22 11]\n",
      " [14  9  6 12]]\n",
      "             precision    recall  f1-score   support\n",
      "\n",
      "          0       0.43      0.59      0.50        32\n",
      "          1       0.55      0.47      0.51        51\n",
      "          2       0.63      0.51      0.56        43\n",
      "          3       0.27      0.29      0.28        41\n",
      "\n",
      "avg / total       0.48      0.46      0.46       167\n",
      "\n"
     ]
    },
    {
     "name": "stderr",
     "output_type": "stream",
     "text": [
      "/usr/local/lib/python2.7/dist-packages/sklearn/preprocessing/label.py:151: DeprecationWarning: The truth value of an empty array is ambiguous. Returning False, but in future this will result in an error. Use `array.size > 0` to check that an array is not empty.\n",
      "  if diff:\n"
     ]
    },
    {
     "name": "stdout",
     "output_type": "stream",
     "text": [
      "[[30  8  3 12]\n",
      " [ 6 26  7 11]\n",
      " [ 3  4 16 10]\n",
      " [ 5  6  8 11]]\n",
      "             precision    recall  f1-score   support\n",
      "\n",
      "          0       0.68      0.57      0.62        53\n",
      "          1       0.59      0.52      0.55        50\n",
      "          2       0.47      0.48      0.48        33\n",
      "          3       0.25      0.37      0.30        30\n",
      "\n",
      "avg / total       0.53      0.50      0.51       166\n",
      "\n"
     ]
    },
    {
     "name": "stderr",
     "output_type": "stream",
     "text": [
      "/usr/local/lib/python2.7/dist-packages/sklearn/preprocessing/label.py:151: DeprecationWarning: The truth value of an empty array is ambiguous. Returning False, but in future this will result in an error. Use `array.size > 0` to check that an array is not empty.\n",
      "  if diff:\n"
     ]
    },
    {
     "name": "stdout",
     "output_type": "stream",
     "text": [
      "[[34  3  6 14]\n",
      " [ 1 30  7 11]\n",
      " [ 5  2 16  7]\n",
      " [ 4  9  5 12]]\n",
      "             precision    recall  f1-score   support\n",
      "\n",
      "          0       0.77      0.60      0.67        57\n",
      "          1       0.68      0.61      0.65        49\n",
      "          2       0.47      0.53      0.50        30\n",
      "          3       0.27      0.40      0.32        30\n",
      "\n",
      "avg / total       0.60      0.55      0.57       166\n",
      "\n"
     ]
    },
    {
     "name": "stderr",
     "output_type": "stream",
     "text": [
      "/usr/local/lib/python2.7/dist-packages/sklearn/preprocessing/label.py:151: DeprecationWarning: The truth value of an empty array is ambiguous. Returning False, but in future this will result in an error. Use `array.size > 0` to check that an array is not empty.\n",
      "  if diff:\n"
     ]
    },
    {
     "name": "stdout",
     "output_type": "stream",
     "text": [
      "[[31  3  1 11]\n",
      " [ 4 27  9 12]\n",
      " [ 7  5 18  9]\n",
      " [ 2  9  6 12]]\n",
      "             precision    recall  f1-score   support\n",
      "\n",
      "          0       0.70      0.67      0.69        46\n",
      "          1       0.61      0.52      0.56        52\n",
      "          2       0.53      0.46      0.49        39\n",
      "          3       0.27      0.41      0.33        29\n",
      "\n",
      "avg / total       0.56      0.53      0.54       166\n",
      "\n",
      "[[28  6  2 10]\n",
      " [ 4 24  4 12]\n",
      " [ 4  4 19  7]\n",
      " [ 8 10  9 15]]\n",
      "             precision    recall  f1-score   support\n",
      "\n",
      "          0       0.64      0.61      0.62        46\n",
      "          1       0.55      0.55      0.55        44\n",
      "          2       0.56      0.56      0.56        34\n",
      "          3       0.34      0.36      0.35        42\n",
      "\n",
      "avg / total       0.52      0.52      0.52       166\n",
      "\n",
      "\n",
      "Fold Accuracies:  [0.5588235294117647, 0.5029585798816568, 0.5266272189349113, 0.5149700598802395, 0.5089820359281437, 0.46107784431137727, 0.5, 0.5542168674698795, 0.5301204819277109, 0.5180722891566265]\n",
      "\n",
      "Accuracy Ensemble Classifier:  0.5175848906902311\n"
     ]
    },
    {
     "name": "stderr",
     "output_type": "stream",
     "text": [
      "/usr/local/lib/python2.7/dist-packages/sklearn/preprocessing/label.py:151: DeprecationWarning: The truth value of an empty array is ambiguous. Returning False, but in future this will result in an error. Use `array.size > 0` to check that an array is not empty.\n",
      "  if diff:\n"
     ]
    }
   ],
   "source": [
    "import pandas as pd\n",
    "data1 = pd.read_csv('CE_Seq_25PDB.csv')\n",
    "labels = data1['Class'].values\n",
    "feat_w2v = data1.drop(['PDBid', 'Class', 'Unnamed: 0'], axis=1).values\n",
    "\n",
    "\n",
    "from sklearn.ensemble import RandomForestClassifier, VotingClassifier, GradientBoostingClassifier\n",
    "from sklearn.neural_network import MLPClassifier\n",
    "from sklearn.metrics import classification_report\n",
    "from sklearn.metrics import confusion_matrix\n",
    "from sklearn.svm import SVC\n",
    "\n",
    "rf = RandomForestClassifier(n_estimators=360, criterion=\"gini\")\n",
    "gb = GradientBoostingClassifier(n_estimators=360, learning_rate=0.01, max_depth=3)\n",
    "sv = SVC(kernel='rbf', C=4, probability=True)\n",
    "eclf = VotingClassifier(estimators=[('rf', rf),('gb', gb),('sv', sv)], voting='soft')\n",
    "\n",
    "import numpy as np\n",
    "from sklearn.metrics import accuracy_score\n",
    "from sklearn.model_selection import KFold\n",
    "from sklearn.model_selection import StratifiedKFold\n",
    "from sklearn.metrics import classification_report\n",
    "from sklearn.metrics import confusion_matrix\n",
    "\n",
    "kf = StratifiedKFold(n_splits=10, shuffle=True, random_state=42)\n",
    "\n",
    "import numpy as np\n",
    "from sklearn.metrics import accuracy_score\n",
    "acc_eclf = []\n",
    "\n",
    "for train, test in kf.split(feat_w2v, labels):\n",
    "    X_train, X_test = feat_w2v[train], feat_w2v[test]\n",
    "    Y_train, Y_test = labels[train], labels[test]\n",
    "    \n",
    "    eclf.fit(X_train, Y_train)\n",
    "    pred = eclf.predict(X_test).round()\n",
    "    print confusion_matrix(pred, Y_test)\n",
    "    print classification_report(pred, Y_test)\n",
    "    acc_eclf.append(accuracy_score(pred, Y_test))\n",
    "\n",
    "print '\\nFold Accuracies: ', acc_eclf\n",
    "print '\\nAccuracy Ensemble Classifier: ', np.mean(acc_eclf)"
   ]
  },
  {
   "cell_type": "code",
   "execution_count": 12,
   "metadata": {},
   "outputs": [
    {
     "name": "stderr",
     "output_type": "stream",
     "text": [
      "/usr/local/lib/python2.7/dist-packages/sklearn/preprocessing/label.py:151: DeprecationWarning: The truth value of an empty array is ambiguous. Returning False, but in future this will result in an error. Use `array.size > 0` to check that an array is not empty.\n",
      "  if diff:\n"
     ]
    },
    {
     "name": "stdout",
     "output_type": "stream",
     "text": [
      "[[42  0  1  1]\n",
      " [ 0 34  1  3]\n",
      " [ 2  3 23 12]\n",
      " [ 1  8 10 29]]\n",
      "             precision    recall  f1-score   support\n",
      "\n",
      "          0       0.93      0.95      0.94        44\n",
      "          1       0.76      0.89      0.82        38\n",
      "          2       0.66      0.57      0.61        40\n",
      "          3       0.64      0.60      0.62        48\n",
      "\n",
      "avg / total       0.75      0.75      0.75       170\n",
      "\n"
     ]
    },
    {
     "name": "stderr",
     "output_type": "stream",
     "text": [
      "/usr/local/lib/python2.7/dist-packages/sklearn/preprocessing/label.py:151: DeprecationWarning: The truth value of an empty array is ambiguous. Returning False, but in future this will result in an error. Use `array.size > 0` to check that an array is not empty.\n",
      "  if diff:\n"
     ]
    },
    {
     "name": "stdout",
     "output_type": "stream",
     "text": [
      "[[37  1  1  4]\n",
      " [ 0 34  0  0]\n",
      " [ 6  0 24 11]\n",
      " [ 2 10 10 29]]\n",
      "             precision    recall  f1-score   support\n",
      "\n",
      "          0       0.82      0.86      0.84        43\n",
      "          1       0.76      1.00      0.86        34\n",
      "          2       0.69      0.59      0.63        41\n",
      "          3       0.66      0.57      0.61        51\n",
      "\n",
      "avg / total       0.73      0.73      0.72       169\n",
      "\n"
     ]
    },
    {
     "name": "stderr",
     "output_type": "stream",
     "text": [
      "/usr/local/lib/python2.7/dist-packages/sklearn/preprocessing/label.py:151: DeprecationWarning: The truth value of an empty array is ambiguous. Returning False, but in future this will result in an error. Use `array.size > 0` to check that an array is not empty.\n",
      "  if diff:\n"
     ]
    },
    {
     "name": "stdout",
     "output_type": "stream",
     "text": [
      "[[42  1  4  3]\n",
      " [ 0 36  1  6]\n",
      " [ 1  0 19  8]\n",
      " [ 2  8 11 27]]\n",
      "             precision    recall  f1-score   support\n",
      "\n",
      "          0       0.93      0.84      0.88        50\n",
      "          1       0.80      0.84      0.82        43\n",
      "          2       0.54      0.68      0.60        28\n",
      "          3       0.61      0.56      0.59        48\n",
      "\n",
      "avg / total       0.74      0.73      0.74       169\n",
      "\n"
     ]
    },
    {
     "name": "stderr",
     "output_type": "stream",
     "text": [
      "/usr/local/lib/python2.7/dist-packages/sklearn/preprocessing/label.py:151: DeprecationWarning: The truth value of an empty array is ambiguous. Returning False, but in future this will result in an error. Use `array.size > 0` to check that an array is not empty.\n",
      "  if diff:\n"
     ]
    },
    {
     "name": "stdout",
     "output_type": "stream",
     "text": [
      "[[42  0  3  1]\n",
      " [ 1 33  0  3]\n",
      " [ 0  3 23 14]\n",
      " [ 1  8  9 26]]\n",
      "             precision    recall  f1-score   support\n",
      "\n",
      "          0       0.95      0.91      0.93        46\n",
      "          1       0.75      0.89      0.81        37\n",
      "          2       0.66      0.57      0.61        40\n",
      "          3       0.59      0.59      0.59        44\n",
      "\n",
      "avg / total       0.74      0.74      0.74       167\n",
      "\n"
     ]
    },
    {
     "name": "stderr",
     "output_type": "stream",
     "text": [
      "/usr/local/lib/python2.7/dist-packages/sklearn/preprocessing/label.py:151: DeprecationWarning: The truth value of an empty array is ambiguous. Returning False, but in future this will result in an error. Use `array.size > 0` to check that an array is not empty.\n",
      "  if diff:\n"
     ]
    },
    {
     "name": "stdout",
     "output_type": "stream",
     "text": [
      "[[38  1  4  3]\n",
      " [ 0 36  0  5]\n",
      " [ 6  0 21  6]\n",
      " [ 0  7 10 30]]\n",
      "             precision    recall  f1-score   support\n",
      "\n",
      "          0       0.86      0.83      0.84        46\n",
      "          1       0.82      0.88      0.85        41\n",
      "          2       0.60      0.64      0.62        33\n",
      "          3       0.68      0.64      0.66        47\n",
      "\n",
      "avg / total       0.75      0.75      0.75       167\n",
      "\n"
     ]
    },
    {
     "name": "stderr",
     "output_type": "stream",
     "text": [
      "/usr/local/lib/python2.7/dist-packages/sklearn/preprocessing/label.py:151: DeprecationWarning: The truth value of an empty array is ambiguous. Returning False, but in future this will result in an error. Use `array.size > 0` to check that an array is not empty.\n",
      "  if diff:\n"
     ]
    },
    {
     "name": "stdout",
     "output_type": "stream",
     "text": [
      "[[43  0  3  2]\n",
      " [ 0 35  0  7]\n",
      " [ 0  1 21  9]\n",
      " [ 1  8 11 26]]\n",
      "             precision    recall  f1-score   support\n",
      "\n",
      "          0       0.98      0.90      0.93        48\n",
      "          1       0.80      0.83      0.81        42\n",
      "          2       0.60      0.68      0.64        31\n",
      "          3       0.59      0.57      0.58        46\n",
      "\n",
      "avg / total       0.76      0.75      0.75       167\n",
      "\n"
     ]
    },
    {
     "name": "stderr",
     "output_type": "stream",
     "text": [
      "/usr/local/lib/python2.7/dist-packages/sklearn/preprocessing/label.py:151: DeprecationWarning: The truth value of an empty array is ambiguous. Returning False, but in future this will result in an error. Use `array.size > 0` to check that an array is not empty.\n",
      "  if diff:\n"
     ]
    },
    {
     "name": "stdout",
     "output_type": "stream",
     "text": [
      "[[38  0  1  1]\n",
      " [ 0 30  0  5]\n",
      " [ 3  5 20 15]\n",
      " [ 3  9 13 23]]\n",
      "             precision    recall  f1-score   support\n",
      "\n",
      "          0       0.86      0.95      0.90        40\n",
      "          1       0.68      0.86      0.76        35\n",
      "          2       0.59      0.47      0.52        43\n",
      "          3       0.52      0.48      0.50        48\n",
      "\n",
      "avg / total       0.66      0.67      0.66       166\n",
      "\n"
     ]
    },
    {
     "name": "stderr",
     "output_type": "stream",
     "text": [
      "/usr/local/lib/python2.7/dist-packages/sklearn/preprocessing/label.py:151: DeprecationWarning: The truth value of an empty array is ambiguous. Returning False, but in future this will result in an error. Use `array.size > 0` to check that an array is not empty.\n",
      "  if diff:\n"
     ]
    },
    {
     "name": "stdout",
     "output_type": "stream",
     "text": [
      "[[39  1  2  3]\n",
      " [ 0 34  0  3]\n",
      " [ 3  1 24 10]\n",
      " [ 2  8  8 28]]\n",
      "             precision    recall  f1-score   support\n",
      "\n",
      "          0       0.89      0.87      0.88        45\n",
      "          1       0.77      0.92      0.84        37\n",
      "          2       0.71      0.63      0.67        38\n",
      "          3       0.64      0.61      0.62        46\n",
      "\n",
      "avg / total       0.75      0.75      0.75       166\n",
      "\n"
     ]
    },
    {
     "name": "stderr",
     "output_type": "stream",
     "text": [
      "/usr/local/lib/python2.7/dist-packages/sklearn/preprocessing/label.py:151: DeprecationWarning: The truth value of an empty array is ambiguous. Returning False, but in future this will result in an error. Use `array.size > 0` to check that an array is not empty.\n",
      "  if diff:\n"
     ]
    },
    {
     "name": "stdout",
     "output_type": "stream",
     "text": [
      "[[41  2  4  2]\n",
      " [ 0 32  0  7]\n",
      " [ 2  1 22 13]\n",
      " [ 1  9  8 22]]\n",
      "             precision    recall  f1-score   support\n",
      "\n",
      "          0       0.93      0.84      0.88        49\n",
      "          1       0.73      0.82      0.77        39\n",
      "          2       0.65      0.58      0.61        38\n",
      "          3       0.50      0.55      0.52        40\n",
      "\n",
      "avg / total       0.71      0.70      0.71       166\n",
      "\n",
      "[[37  0  2  2]\n",
      " [ 0 31  1  4]\n",
      " [ 5  1 18  8]\n",
      " [ 2 12 13 30]]\n",
      "             precision    recall  f1-score   support\n",
      "\n",
      "          0       0.84      0.90      0.87        41\n",
      "          1       0.70      0.86      0.78        36\n",
      "          2       0.53      0.56      0.55        32\n",
      "          3       0.68      0.53      0.59        57\n",
      "\n",
      "avg / total       0.70      0.70      0.69       166\n",
      "\n",
      "\n",
      "Fold Accuracies:  [0.7529411764705882, 0.7337278106508875, 0.7337278106508875, 0.7425149700598802, 0.7485029940119761, 0.7485029940119761, 0.6686746987951807, 0.7530120481927711, 0.7048192771084337, 0.6987951807228916]\n",
      "\n",
      "Accuracy Ensemble Classifier:  0.7285218960675472\n"
     ]
    },
    {
     "name": "stderr",
     "output_type": "stream",
     "text": [
      "/usr/local/lib/python2.7/dist-packages/sklearn/preprocessing/label.py:151: DeprecationWarning: The truth value of an empty array is ambiguous. Returning False, but in future this will result in an error. Use `array.size > 0` to check that an array is not empty.\n",
      "  if diff:\n"
     ]
    }
   ],
   "source": [
    "import pandas as pd\n",
    "data1 = pd.read_csv('25PDB/CE_Str_25PDB.csv')\n",
    "labels = data1['Class'].values\n",
    "feat_w2v = data1.drop(['PDBid', 'Class', 'Unnamed: 0'], axis=1).values\n",
    "\n",
    "\n",
    "from sklearn.ensemble import RandomForestClassifier, VotingClassifier, GradientBoostingClassifier\n",
    "from sklearn.neural_network import MLPClassifier\n",
    "from sklearn.metrics import classification_report\n",
    "from sklearn.metrics import confusion_matrix\n",
    "from sklearn.svm import SVC\n",
    "\n",
    "rf = RandomForestClassifier(n_estimators=360, criterion=\"gini\")\n",
    "gb = GradientBoostingClassifier(n_estimators=360, learning_rate=0.01, max_depth=3)\n",
    "sv = SVC(kernel='rbf', C=4, probability=True)\n",
    "eclf = VotingClassifier(estimators=[('rf', rf),('gb', gb),('sv', sv)], voting='soft')\n",
    "\n",
    "import numpy as np\n",
    "from sklearn.metrics import accuracy_score\n",
    "from sklearn.model_selection import KFold\n",
    "from sklearn.model_selection import StratifiedKFold\n",
    "from sklearn.metrics import classification_report\n",
    "from sklearn.metrics import confusion_matrix\n",
    "\n",
    "kf = StratifiedKFold(n_splits=10, shuffle=True, random_state=42)\n",
    "\n",
    "import numpy as np\n",
    "from sklearn.metrics import accuracy_score\n",
    "acc_eclf = []\n",
    "\n",
    "for train, test in kf.split(feat_w2v, labels):\n",
    "    X_train, X_test = feat_w2v[train], feat_w2v[test]\n",
    "    Y_train, Y_test = labels[train], labels[test]\n",
    "    \n",
    "    eclf.fit(X_train, Y_train)\n",
    "    pred = eclf.predict(X_test).round()\n",
    "    print confusion_matrix(pred, Y_test)\n",
    "    print classification_report(pred, Y_test)\n",
    "    acc_eclf.append(accuracy_score(pred, Y_test))\n",
    "\n",
    "print '\\nFold Accuracies: ', acc_eclf\n",
    "print '\\nAccuracy Ensemble Classifier: ', np.mean(acc_eclf)"
   ]
  },
  {
   "cell_type": "code",
   "execution_count": 13,
   "metadata": {},
   "outputs": [
    {
     "name": "stderr",
     "output_type": "stream",
     "text": [
      "/usr/local/lib/python2.7/dist-packages/sklearn/preprocessing/label.py:151: DeprecationWarning: The truth value of an empty array is ambiguous. Returning False, but in future this will result in an error. Use `array.size > 0` to check that an array is not empty.\n",
      "  if diff:\n"
     ]
    },
    {
     "name": "stdout",
     "output_type": "stream",
     "text": [
      "[[40  0  0  1]\n",
      " [ 0 34  1  3]\n",
      " [ 4  0 27  9]\n",
      " [ 1 11  7 32]]\n",
      "             precision    recall  f1-score   support\n",
      "\n",
      "          0       0.89      0.98      0.93        41\n",
      "          1       0.76      0.89      0.82        38\n",
      "          2       0.77      0.68      0.72        40\n",
      "          3       0.71      0.63      0.67        51\n",
      "\n",
      "avg / total       0.78      0.78      0.78       170\n",
      "\n"
     ]
    },
    {
     "name": "stderr",
     "output_type": "stream",
     "text": [
      "/usr/local/lib/python2.7/dist-packages/sklearn/preprocessing/label.py:151: DeprecationWarning: The truth value of an empty array is ambiguous. Returning False, but in future this will result in an error. Use `array.size > 0` to check that an array is not empty.\n",
      "  if diff:\n"
     ]
    },
    {
     "name": "stdout",
     "output_type": "stream",
     "text": [
      "[[36  1  0  4]\n",
      " [ 0 36  0  2]\n",
      " [ 4  1 26  8]\n",
      " [ 5  7  9 30]]\n",
      "             precision    recall  f1-score   support\n",
      "\n",
      "          0       0.80      0.88      0.84        41\n",
      "          1       0.80      0.95      0.87        38\n",
      "          2       0.74      0.67      0.70        39\n",
      "          3       0.68      0.59      0.63        51\n",
      "\n",
      "avg / total       0.75      0.76      0.75       169\n",
      "\n"
     ]
    },
    {
     "name": "stderr",
     "output_type": "stream",
     "text": [
      "/usr/local/lib/python2.7/dist-packages/sklearn/preprocessing/label.py:151: DeprecationWarning: The truth value of an empty array is ambiguous. Returning False, but in future this will result in an error. Use `array.size > 0` to check that an array is not empty.\n",
      "  if diff:\n"
     ]
    },
    {
     "name": "stdout",
     "output_type": "stream",
     "text": [
      "[[41  1  3  3]\n",
      " [ 0 36  1  7]\n",
      " [ 2  0 21  6]\n",
      " [ 2  8 10 28]]\n",
      "             precision    recall  f1-score   support\n",
      "\n",
      "          0       0.91      0.85      0.88        48\n",
      "          1       0.80      0.82      0.81        44\n",
      "          2       0.60      0.72      0.66        29\n",
      "          3       0.64      0.58      0.61        48\n",
      "\n",
      "avg / total       0.75      0.75      0.75       169\n",
      "\n"
     ]
    },
    {
     "name": "stderr",
     "output_type": "stream",
     "text": [
      "/usr/local/lib/python2.7/dist-packages/sklearn/preprocessing/label.py:151: DeprecationWarning: The truth value of an empty array is ambiguous. Returning False, but in future this will result in an error. Use `array.size > 0` to check that an array is not empty.\n",
      "  if diff:\n"
     ]
    },
    {
     "name": "stdout",
     "output_type": "stream",
     "text": [
      "[[42  0  1  1]\n",
      " [ 1 32  1  5]\n",
      " [ 0  2 22  8]\n",
      " [ 1 10 11 30]]\n",
      "             precision    recall  f1-score   support\n",
      "\n",
      "          0       0.95      0.95      0.95        44\n",
      "          1       0.73      0.82      0.77        39\n",
      "          2       0.63      0.69      0.66        32\n",
      "          3       0.68      0.58      0.62        52\n",
      "\n",
      "avg / total       0.75      0.75      0.75       167\n",
      "\n"
     ]
    },
    {
     "name": "stderr",
     "output_type": "stream",
     "text": [
      "/usr/local/lib/python2.7/dist-packages/sklearn/preprocessing/label.py:151: DeprecationWarning: The truth value of an empty array is ambiguous. Returning False, but in future this will result in an error. Use `array.size > 0` to check that an array is not empty.\n",
      "  if diff:\n"
     ]
    },
    {
     "name": "stdout",
     "output_type": "stream",
     "text": [
      "[[36  1  4  3]\n",
      " [ 0 35  0  6]\n",
      " [ 2  0 22  7]\n",
      " [ 6  8  9 28]]\n",
      "             precision    recall  f1-score   support\n",
      "\n",
      "          0       0.82      0.82      0.82        44\n",
      "          1       0.80      0.85      0.82        41\n",
      "          2       0.63      0.71      0.67        31\n",
      "          3       0.64      0.55      0.59        51\n",
      "\n",
      "avg / total       0.72      0.72      0.72       167\n",
      "\n"
     ]
    },
    {
     "name": "stderr",
     "output_type": "stream",
     "text": [
      "/usr/local/lib/python2.7/dist-packages/sklearn/preprocessing/label.py:151: DeprecationWarning: The truth value of an empty array is ambiguous. Returning False, but in future this will result in an error. Use `array.size > 0` to check that an array is not empty.\n",
      "  if diff:\n"
     ]
    },
    {
     "name": "stdout",
     "output_type": "stream",
     "text": [
      "[[39  1  1  2]\n",
      " [ 0 34  0  9]\n",
      " [ 1  3 29  7]\n",
      " [ 4  6  5 26]]\n",
      "             precision    recall  f1-score   support\n",
      "\n",
      "          0       0.89      0.91      0.90        43\n",
      "          1       0.77      0.79      0.78        43\n",
      "          2       0.83      0.72      0.77        40\n",
      "          3       0.59      0.63      0.61        41\n",
      "\n",
      "avg / total       0.77      0.77      0.77       167\n",
      "\n"
     ]
    },
    {
     "name": "stderr",
     "output_type": "stream",
     "text": [
      "/usr/local/lib/python2.7/dist-packages/sklearn/preprocessing/label.py:151: DeprecationWarning: The truth value of an empty array is ambiguous. Returning False, but in future this will result in an error. Use `array.size > 0` to check that an array is not empty.\n",
      "  if diff:\n"
     ]
    },
    {
     "name": "stdout",
     "output_type": "stream",
     "text": [
      "[[38  2  1  2]\n",
      " [ 0 30  0  6]\n",
      " [ 1  1 21  8]\n",
      " [ 5 11 12 28]]\n",
      "             precision    recall  f1-score   support\n",
      "\n",
      "          0       0.86      0.88      0.87        43\n",
      "          1       0.68      0.83      0.75        36\n",
      "          2       0.62      0.68      0.65        31\n",
      "          3       0.64      0.50      0.56        56\n",
      "\n",
      "avg / total       0.70      0.70      0.70       166\n",
      "\n"
     ]
    },
    {
     "name": "stderr",
     "output_type": "stream",
     "text": [
      "/usr/local/lib/python2.7/dist-packages/sklearn/preprocessing/label.py:151: DeprecationWarning: The truth value of an empty array is ambiguous. Returning False, but in future this will result in an error. Use `array.size > 0` to check that an array is not empty.\n",
      "  if diff:\n"
     ]
    },
    {
     "name": "stdout",
     "output_type": "stream",
     "text": [
      "[[39  1  2  3]\n",
      " [ 0 36  0  2]\n",
      " [ 3  1 23  8]\n",
      " [ 2  6  9 31]]\n",
      "             precision    recall  f1-score   support\n",
      "\n",
      "          0       0.89      0.87      0.88        45\n",
      "          1       0.82      0.95      0.88        38\n",
      "          2       0.68      0.66      0.67        35\n",
      "          3       0.70      0.65      0.67        48\n",
      "\n",
      "avg / total       0.77      0.78      0.77       166\n",
      "\n"
     ]
    },
    {
     "name": "stderr",
     "output_type": "stream",
     "text": [
      "/usr/local/lib/python2.7/dist-packages/sklearn/preprocessing/label.py:151: DeprecationWarning: The truth value of an empty array is ambiguous. Returning False, but in future this will result in an error. Use `array.size > 0` to check that an array is not empty.\n",
      "  if diff:\n"
     ]
    },
    {
     "name": "stdout",
     "output_type": "stream",
     "text": [
      "[[42  2  4  2]\n",
      " [ 0 32  0  7]\n",
      " [ 1  0 22  9]\n",
      " [ 1 10  8 26]]\n",
      "             precision    recall  f1-score   support\n",
      "\n",
      "          0       0.95      0.84      0.89        50\n",
      "          1       0.73      0.82      0.77        39\n",
      "          2       0.65      0.69      0.67        32\n",
      "          3       0.59      0.58      0.58        45\n",
      "\n",
      "avg / total       0.74      0.73      0.74       166\n",
      "\n",
      "[[40  0  1  3]\n",
      " [ 0 32  1  3]\n",
      " [ 0  1 19  3]\n",
      " [ 4 11 13 35]]\n",
      "             precision    recall  f1-score   support\n",
      "\n",
      "          0       0.91      0.91      0.91        44\n",
      "          1       0.73      0.89      0.80        36\n",
      "          2       0.56      0.83      0.67        23\n",
      "          3       0.80      0.56      0.65        63\n",
      "\n",
      "avg / total       0.78      0.76      0.76       166\n",
      "\n",
      "\n",
      "Fold Accuracies:  [0.7823529411764706, 0.757396449704142, 0.7455621301775148, 0.7544910179640718, 0.7245508982035929, 0.7664670658682635, 0.7048192771084337, 0.7771084337349398, 0.7349397590361446, 0.7590361445783133]\n",
      "\n",
      "Accuracy Ensemble Classifier:  0.7506724117551886\n"
     ]
    },
    {
     "name": "stderr",
     "output_type": "stream",
     "text": [
      "/usr/local/lib/python2.7/dist-packages/sklearn/preprocessing/label.py:151: DeprecationWarning: The truth value of an empty array is ambiguous. Returning False, but in future this will result in an error. Use `array.size > 0` to check that an array is not empty.\n",
      "  if diff:\n"
     ]
    }
   ],
   "source": [
    "#Combined\n",
    "import pandas as pd\n",
    "data1 = pd.read_csv('25PDB/CE_Seq_25PDB.csv')\n",
    "data2 = pd.read_csv('25PDB/CE_Str_25PDB.csv')\n",
    "\n",
    "features1 = data1.drop(['Unnamed: 0'], axis=1)\n",
    "features2 = data2.drop(['Unnamed: 0', 'Class'], axis=1)\n",
    "features12 = features1.merge(features2, on=['PDBid'], how='inner')\n",
    "\n",
    "labels = features12['Class'].values\n",
    "feat_w2v = features12.drop(['PDBid', 'Class'], axis=1).values\n",
    "\n",
    "\n",
    "from sklearn.ensemble import RandomForestClassifier, VotingClassifier, GradientBoostingClassifier\n",
    "from sklearn.neural_network import MLPClassifier\n",
    "from sklearn.metrics import classification_report\n",
    "from sklearn.metrics import confusion_matrix\n",
    "from sklearn.svm import SVC\n",
    "\n",
    "rf = RandomForestClassifier(n_estimators=360, criterion=\"gini\")\n",
    "gb = GradientBoostingClassifier(n_estimators=360, learning_rate=0.01, max_depth=3)\n",
    "sv = SVC(kernel='rbf', C=4, probability=True)\n",
    "eclf = VotingClassifier(estimators=[('rf', rf),('gb', gb),('sv', sv)], voting='soft')\n",
    "\n",
    "import numpy as np\n",
    "from sklearn.metrics import accuracy_score\n",
    "from sklearn.model_selection import KFold\n",
    "from sklearn.model_selection import StratifiedKFold\n",
    "from sklearn.metrics import classification_report\n",
    "from sklearn.metrics import confusion_matrix\n",
    "\n",
    "kf = StratifiedKFold(n_splits=10, shuffle=True, random_state=42)\n",
    "\n",
    "import numpy as np\n",
    "from sklearn.metrics import accuracy_score\n",
    "acc_eclf = []\n",
    "\n",
    "for train, test in kf.split(feat_w2v, labels):\n",
    "    X_train, X_test = feat_w2v[train], feat_w2v[test]\n",
    "    Y_train, Y_test = labels[train], labels[test]\n",
    "    \n",
    "    eclf.fit(X_train, Y_train)\n",
    "    pred = eclf.predict(X_test).round()\n",
    "    print confusion_matrix(pred, Y_test)\n",
    "    print classification_report(pred, Y_test)\n",
    "    acc_eclf.append(accuracy_score(pred, Y_test))\n",
    "\n",
    "print '\\nFold Accuracies: ', acc_eclf\n",
    "print '\\nAccuracy Ensemble Classifier: ', np.mean(acc_eclf)"
   ]
  },
  {
   "cell_type": "code",
   "execution_count": null,
   "metadata": {},
   "outputs": [],
   "source": []
  }
 ],
 "metadata": {
  "kernelspec": {
   "display_name": "Python 2",
   "language": "python",
   "name": "python2"
  },
  "language_info": {
   "codemirror_mode": {
    "name": "ipython",
    "version": 2
   },
   "file_extension": ".py",
   "mimetype": "text/x-python",
   "name": "python",
   "nbconvert_exporter": "python",
   "pygments_lexer": "ipython2",
   "version": "2.7.14"
  }
 },
 "nbformat": 4,
 "nbformat_minor": 2
}
