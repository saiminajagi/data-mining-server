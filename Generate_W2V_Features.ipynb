{
 "cells": [
  {
   "cell_type": "code",
   "execution_count": 50,
   "metadata": {},
   "outputs": [
    {
     "name": "stdout",
     "output_type": "stream",
     "text": [
      "Word2Vec(vocab=21, size=400, alpha=0.01)\n"
     ]
    },
    {
     "name": "stderr",
     "output_type": "stream",
     "text": [
      "/usr/local/lib/python2.7/dist-packages/ipykernel_launcher.py:40: DeprecationWarning: Call to deprecated `__getitem__` (Method will be removed in 4.0.0, use self.wv.__getitem__() instead).\n"
     ]
    }
   ],
   "source": [
    "import pandas as pd\n",
    "import numpy as np\n",
    "\n",
    "# l1='25PDB'\n",
    "l1='SCOPe_207'\n",
    "loc = l1+'/'+l1+'.csv'\n",
    "data = pd.read_csv(loc)\n",
    "\n",
    "dim=400\n",
    "\n",
    "data['features'] = data['Sequence']\n",
    "# data['features'] = data['Seq-Code']\n",
    "\n",
    "from gensim.models import Word2Vec\n",
    "# model = Word2Vec(data['features'], size=dim, window=4, min_count=1, workers=4, sg=0, alpha=0.01, hs=1)\n",
    "model = Word2Vec(data['features'], size=dim, window=4, min_count=1, workers=4, sg=1, alpha=0.01, hs=1)\n",
    "print model\n",
    "\n",
    "# def buildWordVector(tokens, size):\n",
    "#     vec = np.zeros(size).reshape((1, size))\n",
    "#     count = 0.\n",
    "#     for word in tokens:\n",
    "# #         print word\n",
    "#         try:\n",
    "#             vec += model[word].reshape((1, size))\n",
    "#             count += 1.\n",
    "#         except KeyError: # handling the case where the token is not\n",
    "#                          # in the corpus. useful for testing.\n",
    "#             continue\n",
    "#     if count != 0:\n",
    "#         vec /= count\n",
    "#     return vec\n",
    "\n",
    "def buildWordVector(tokens, size):\n",
    "    vec = np.zeros(size).reshape((1, size))\n",
    "    count = 0.0\n",
    "    for word in tokens:\n",
    "#         print word\n",
    "        try:\n",
    "            temp = model[word].reshape((1, size))\n",
    "            temp = [(count+1)*i for i in temp]\n",
    "            vec += temp\n",
    "            count += 1.\n",
    "        except KeyError: # handling the case where the token is not\n",
    "                         # in the corpus. useful for testing.\n",
    "            continue\n",
    "    if count != 0:\n",
    "        vec /= count\n",
    "    return vec\n",
    "\n",
    "from sklearn.preprocessing import scale\n",
    "feat_w2v = np.concatenate([buildWordVector(z, dim) for z in data['features']])\n",
    "feat_w2v = scale(feat_w2v)\n"
   ]
  },
  {
   "cell_type": "code",
   "execution_count": 51,
   "metadata": {},
   "outputs": [],
   "source": [
    "df=pd.DataFrame(feat_w2v)\n",
    "df['PDBid'] = data['PDBid']\n",
    "df['Class'] = data['Class']\n",
    "df.to_csv(l1+'/CE_Seq_'+l1+'.csv')\n",
    "# df.to_csv(l1+'/CE_Str_'+l1+'.csv')"
   ]
  },
  {
   "cell_type": "code",
   "execution_count": null,
   "metadata": {},
   "outputs": [],
   "source": []
  }
 ],
 "metadata": {
  "kernelspec": {
   "display_name": "Python 2",
   "language": "python",
   "name": "python2"
  },
  "language_info": {
   "codemirror_mode": {
    "name": "ipython",
    "version": 2
   },
   "file_extension": ".py",
   "mimetype": "text/x-python",
   "name": "python",
   "nbconvert_exporter": "python",
   "pygments_lexer": "ipython2",
   "version": "2.7.14"
  }
 },
 "nbformat": 4,
 "nbformat_minor": 2
}
